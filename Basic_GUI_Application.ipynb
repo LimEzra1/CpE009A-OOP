{
  "nbformat": 4,
  "nbformat_minor": 0,
  "metadata": {
    "colab": {
      "provenance": [],
      "toc_visible": true,
      "authorship_tag": "ABX9TyOOmxr9gX99DuQpfd9tMztw",
      "include_colab_link": true
    },
    "kernelspec": {
      "name": "python3",
      "display_name": "Python 3"
    },
    "language_info": {
      "name": "python"
    }
  },
  "cells": [
    {
      "cell_type": "markdown",
      "metadata": {
        "id": "view-in-github",
        "colab_type": "text"
      },
      "source": [
        "<a href=\"https://colab.research.google.com/github/JoBalasa/CPE009-OOP/blob/main/Basic_GUI_Application.ipynb\" target=\"_parent\"><img src=\"https://colab.research.google.com/assets/colab-badge.svg\" alt=\"Open In Colab\"/></a>"
      ]
    },
    {
      "cell_type": "markdown",
      "source": [
        "#Basic GUI Application\n",
        "from tkinter import *\n",
        "class MyWindow:\n",
        "    def __init__(self,window):\n",
        "        self.lbl = Label(window, text=\"Simple Calculator\")\n",
        "        self.lbl.place(x=75, y=75)\n",
        "        self.lbl1 = Label(window, text=\"Number 1:\", fg=\"blue\")\n",
        "        self.lbl1.place(x=80, y=100)\n",
        "        self.txt1 = Entry(window,bd = 2)\n",
        "        self.txt1.place(x=150, y=100)\n",
        "        self.lbl2 = Label(window, text=\"Number 2:\", fg=\"orange\")\n",
        "        self.lbl2.place(x=80, y=150)\n",
        "\n",
        "        self.txt2 = Entry(window, bd = 2)\n",
        "        self.txt2.place(x=150, y=150)\n",
        "\n",
        "        self.btn1 = Button(window, text=\"Add\", command=self.add)\n",
        "        self.btn1.place(x=80, y=200)\n",
        "        self.btn2 = Button(window, text=\"Subtract\")\n",
        "        self.btn2.place(x=120, y=200)\n",
        "        self.btn2.bind('<Button-1>',self.sub)\n",
        "\n",
        "\n",
        "        self.txt3 = Entry(window)\n",
        "        self.txt3.place(x=100, y=250)\n",
        "\n",
        "    def add(self):\n",
        "        self.txt3.delete(0, 'end')\n",
        "        num1=int(self.txt1.get())\n",
        "        num2=int(self.txt2.get())\n",
        "        result=num1+num2\n",
        "        self.txt3.insert(END, str(result))\n",
        "\n",
        "    def sub(self, event):\n",
        "\n",
        "        self.txt3.delete(0, 'end')\n",
        "        num1 = int(self.txt1.get())\n",
        "        num2 = int(self.txt2.get())\n",
        "        result = num1 + num2\n",
        "        self.txt3.insert(END, str(result))\n",
        "\n",
        "window = Tk()\n",
        "mywind=MyWindow(window)\n",
        "window.geometry(\"500x400+10+20\")\n",
        "window.title(\"Python Project\")\n",
        "\n",
        "window.mainloop()"
      ],
      "metadata": {
        "id": "y78c1Qfz4jaM"
      }
    },
    {
      "cell_type": "markdown",
      "source": [
        "#Basic GUI Application\n",
        "from tkinter import *\n",
        "class MyWindow:\n",
        "    def __init__(self,window):\n",
        "        self.lbl = Label(window, text=\"Simple Calculator\")\n",
        "        self.lbl.place(x=75, y=75)\n",
        "        self.lbl1 = Label(window, text=\"Number 1:\", fg=\"blue\")\n",
        "        self.lbl1.place(x=80, y=100)\n",
        "        self.txt1 = Entry(window,bd = 2)\n",
        "        self.txt1.place(x=150, y=100)\n",
        "        self.lbl2 = Label(window, text=\"Number 2:\", fg=\"orange\")\n",
        "        self.lbl2.place(x=80, y=150)\n",
        "\n",
        "        self.txt2 = Entry(window, bd = 2)\n",
        "        self.txt2.place(x=150, y=150)\n",
        "\n",
        "        self.btn1 = Button(window, text=\"Add\", command=self.add)\n",
        "        self.btn1.place(x=80, y=200)\n",
        "        self.btn2 = Button(window, text=\"Subtract\")\n",
        "        self.btn2.place(x=120, y=200)\n",
        "        self.btn2.bind('<Button-1>',self.sub)\n",
        "\n",
        "\n",
        "        self.txt3 = Entry(window)\n",
        "        self.txt3.place(x=100, y=250)\n",
        "\n",
        "    def add(self):\n",
        "        self.txt3.delete(0, 'end')\n",
        "        num1=int(self.txt1.get())\n",
        "        num2=int(self.txt2.get())\n",
        "        result=num1+num2\n",
        "        self.txt3.insert(END, str(result))\n",
        "\n",
        "    def sub(self, event):\n",
        "\n",
        "        self.txt3.delete(0, 'end')\n",
        "        num1 = int(self.txt1.get())\n",
        "        num2 = int(self.txt2.get())\n",
        "        result = num1 + num2\n",
        "        self.txt3.insert(END, str(result))\n",
        "\n",
        "window = Tk()\n",
        "mywind=MyWindow(window)\n",
        "window.geometry(\"500x400+10+20\")\n",
        "window.title(\"Python Project\")\n",
        "\n",
        "window.mainloop()"
      ],
      "metadata": {
        "id": "zE6k1YeQiNpX"
      }
    }
  ]
}