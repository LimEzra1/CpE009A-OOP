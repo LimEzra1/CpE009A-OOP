{
  "nbformat": 4,
  "nbformat_minor": 0,
  "metadata": {
    "colab": {
      "provenance": [],
      "authorship_tag": "ABX9TyM3d0R+Yb7VNImdB5jhhf7H",
      "include_colab_link": true
    },
    "kernelspec": {
      "name": "python3",
      "display_name": "Python 3"
    },
    "language_info": {
      "name": "python"
    }
  },
  "cells": [
    {
      "cell_type": "markdown",
      "metadata": {
        "id": "view-in-github",
        "colab_type": "text"
      },
      "source": [
        "<a href=\"https://colab.research.google.com/github/LimEzra1/CpE009A-OOP/blob/main/Lim_Ezra_Jodie_Prelim_Exam.ipynb\" target=\"_parent\"><img src=\"https://colab.research.google.com/assets/colab-badge.svg\" alt=\"Open In Colab\"/></a>"
      ]
    },
    {
      "cell_type": "code",
      "source": [
        "#53-100\n",
        "#question\n",
        "\n",
        "fullname = input(\"Enter your fullname: \")\n",
        "age = input(\"Enter your age: \")\n",
        "print(\"Fullname is: \" + fullname)\n",
        "print(\"Age is: \" +age)"
      ],
      "metadata": {
        "id": "kbSGDr8ArxJM"
      },
      "execution_count": null,
      "outputs": []
    },
    {
      "cell_type": "code",
      "source": [
        "#53-100\n",
        "#ans\n",
        "\n",
        "fullname = input(\"Enter your fullname: \")\n",
        "age = input(\"Enter your age: \")\n",
        "print(\"Fullname and Age: \" +fullname +\" \"+\"and\"+\" \"+age)"
      ],
      "metadata": {
        "id": "jSac0WuatGpk"
      },
      "execution_count": null,
      "outputs": []
    },
    {
      "cell_type": "code",
      "source": [],
      "metadata": {
        "id": "fDSwBRZquCxT"
      },
      "execution_count": null,
      "outputs": []
    }
  ]
}