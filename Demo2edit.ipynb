{
  "nbformat": 4,
  "nbformat_minor": 0,
  "metadata": {
    "colab": {
      "provenance": [],
      "authorship_tag": "ABX9TyPOti4HWt6GneRLodfYOYsE",
      "include_colab_link": true
    },
    "kernelspec": {
      "name": "python3",
      "display_name": "Python 3"
    },
    "language_info": {
      "name": "python"
    }
  },
  "cells": [
    {
      "cell_type": "markdown",
      "metadata": {
        "id": "view-in-github",
        "colab_type": "text"
      },
      "source": [
        "<a href=\"https://colab.research.google.com/github/LimEzra1/CpE009A-OOP/blob/main/Demo2edit.ipynb\" target=\"_parent\"><img src=\"https://colab.research.google.com/assets/colab-badge.svg\" alt=\"Open In Colab\"/></a>"
      ]
    },
    {
      "cell_type": "code",
      "execution_count": 2,
      "metadata": {
        "colab": {
          "base_uri": "https://localhost:8080/"
        },
        "id": "oEKXAhOzZoLk",
        "outputId": "c7599b31-f724-4e97-d0f9-ab13ffef7928"
      },
      "outputs": [
        {
          "output_type": "stream",
          "name": "stdout",
          "text": [
            "18\n",
            "6.0\n",
            "FAILED\n"
          ]
        }
      ],
      "source": [
        "num1=3\n",
        "num2=6\n",
        "num3=9\n",
        "\n",
        "sum=num1+num2+num3\n",
        "ave=sum/3\n",
        "\n",
        "print(sum)\n",
        "print(ave)\n",
        "\n",
        "if ave<50:\n",
        "  print(\"FAILED\")\n",
        "\n",
        "else:\n",
        "  print(\"PASSED\")"
      ]
    },
    {
      "cell_type": "code",
      "source": [
        "print(\"Enter your grades\")\n",
        "\n",
        "print(\"Prelim Grades: \")\n",
        "num1=int(input())\n",
        "print(\"Midterm Grades: \")\n",
        "num2=int(input())\n",
        "print(\"Final Grades: \")\n",
        "num3=int(input())\n",
        "\n",
        "sum=num1+num2+num3\n",
        "ave=(sum)/3\n",
        "\n",
        "print(sum)\n",
        "print(ave)\n",
        "\n",
        "if ave<50:\n",
        "  print(\"FAILED\")\n",
        "\n",
        "else:\n",
        "  print(\"PASSED\")"
      ],
      "metadata": {
        "colab": {
          "base_uri": "https://localhost:8080/"
        },
        "id": "x17Zr7o4a0gO",
        "outputId": "0f7c684c-64af-4691-db65-5feb0063c102"
      },
      "execution_count": 3,
      "outputs": [
        {
          "output_type": "stream",
          "name": "stdout",
          "text": [
            "Enter your grades\n",
            "Prelim Grades: \n",
            "20\n",
            "Midterm Grades: \n",
            "50\n",
            "Final Grades: \n",
            "60\n",
            "130\n",
            "43.333333333333336\n",
            "FAILED\n"
          ]
        }
      ]
    }
  ]
}