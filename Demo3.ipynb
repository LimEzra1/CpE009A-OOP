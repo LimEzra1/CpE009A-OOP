{
  "nbformat": 4,
  "nbformat_minor": 0,
  "metadata": {
    "colab": {
      "provenance": [],
      "authorship_tag": "ABX9TyPp/LTc5DDIQuPKq6c0uClr",
      "include_colab_link": true
    },
    "kernelspec": {
      "name": "python3",
      "display_name": "Python 3"
    },
    "language_info": {
      "name": "python"
    }
  },
  "cells": [
    {
      "cell_type": "markdown",
      "metadata": {
        "id": "view-in-github",
        "colab_type": "text"
      },
      "source": [
        "<a href=\"https://colab.research.google.com/github/LimEzra1/CpE009A-OOP/blob/main/Demo3.ipynb\" target=\"_parent\"><img src=\"https://colab.research.google.com/assets/colab-badge.svg\" alt=\"Open In Colab\"/></a>"
      ]
    },
    {
      "cell_type": "markdown",
      "source": [
        "#Conditional statements\n",
        "\n",
        "*   Equals ==\n",
        "*   Not Equals!=\n",
        "*   Less than <\n",
        "*   Less than or equal to <=\n",
        "*   Greater than >\n",
        "*   Greater than or equal to >="
      ],
      "metadata": {
        "id": "zJx6LNm_NWZr"
      }
    },
    {
      "cell_type": "markdown",
      "source": [
        "#If Statements\n",
        "\n",
        "<Declaration of Variables>\n",
        "\n",
        "if condition:\n",
        "\n",
        "  block of statements\n",
        "\n",
        "\n"
      ],
      "metadata": {
        "id": "sBsj0BHrN3rw"
      }
    },
    {
      "cell_type": "code",
      "source": [
        "a = 12\n",
        "b = 100\n",
        "if b > a:\n",
        "  print(\"b is greater than a\")"
      ],
      "metadata": {
        "colab": {
          "base_uri": "https://localhost:8080/"
        },
        "id": "zW_VHhIjPKoj",
        "outputId": "037b9960-d2b7-4eae-c761-b7ca2e403017"
      },
      "execution_count": 1,
      "outputs": [
        {
          "output_type": "stream",
          "name": "stdout",
          "text": [
            "b is greater than a\n"
          ]
        }
      ]
    },
    {
      "cell_type": "markdown",
      "source": [
        "#Elif Statements\n",
        "\n",
        "dec\n",
        "\n",
        "if condition1:\n",
        "\n",
        "  block of statements\n",
        "\n",
        "elif condition2:\n",
        "\n",
        "  block of statements"
      ],
      "metadata": {
        "id": "gmSphHSbQA9R"
      }
    },
    {
      "cell_type": "code",
      "source": [
        "a=12\n",
        "b=12\n",
        "if b>a:\n",
        "  print(\"b is greater than a\")\n",
        "elif a==b:\n",
        "  print(\"a and b are equal\")"
      ],
      "metadata": {
        "colab": {
          "base_uri": "https://localhost:8080/"
        },
        "id": "P5VmWQwEPnkc",
        "outputId": "9d9f6266-1d9b-4b2e-ebb7-c8815cfb5059"
      },
      "execution_count": 2,
      "outputs": [
        {
          "output_type": "stream",
          "name": "stdout",
          "text": [
            "a and b are equal\n"
          ]
        }
      ]
    },
    {
      "cell_type": "markdown",
      "source": [
        "#Else Statements"
      ],
      "metadata": {
        "id": "60F4SBrdQfRo"
      }
    },
    {
      "cell_type": "code",
      "source": [
        "a=200\n",
        "b=33\n",
        "if b>a:\n",
        "  print(\"b is greater than a\")\n",
        "\n",
        "elif a==b:\n",
        "  print(\"a and b are equal\")\n",
        "\n",
        "else:\n",
        "  print (\"a is greater than b\")\n"
      ],
      "metadata": {
        "colab": {
          "base_uri": "https://localhost:8080/"
        },
        "id": "2i_0hMcYQgVC",
        "outputId": "c0ec8f90-1fdb-4443-93e9-8e16cd8a8a24"
      },
      "execution_count": 3,
      "outputs": [
        {
          "output_type": "stream",
          "name": "stdout",
          "text": [
            "a is greater than b\n"
          ]
        }
      ]
    },
    {
      "cell_type": "markdown",
      "source": [
        "#Short Hand If.. Else Statement\n",
        "\n",
        "\n",
        "\n"
      ],
      "metadata": {
        "id": "1BxSWBifTE8g"
      }
    },
    {
      "cell_type": "code",
      "source": [
        "a=2\n",
        "b=330\n",
        "print(\"A\")if a>b else print(\"B\")"
      ],
      "metadata": {
        "colab": {
          "base_uri": "https://localhost:8080/"
        },
        "id": "XEDw2a2eTJCQ",
        "outputId": "7c1efea9-87d5-4f2c-fdda-874e4e900ebf"
      },
      "execution_count": 5,
      "outputs": [
        {
          "output_type": "stream",
          "name": "stdout",
          "text": [
            "B\n"
          ]
        }
      ]
    },
    {
      "cell_type": "markdown",
      "source": [
        "#Short Hand If Statement\n",
        "\n",
        "If only have one statement to execute, one for if, and one for else,\n",
        "\n"
      ],
      "metadata": {
        "id": "p0_Gfim9SPUJ"
      }
    },
    {
      "cell_type": "code",
      "source": [
        "if a>b: print(\"a is greater than b\")"
      ],
      "metadata": {
        "id": "y_NNY2J7SutI"
      },
      "execution_count": 6,
      "outputs": []
    },
    {
      "cell_type": "markdown",
      "source": [
        "#And-both conditions are true"
      ],
      "metadata": {
        "id": "T0KGCbvATvXw"
      }
    },
    {
      "cell_type": "code",
      "source": [
        "a=200\n",
        "b=33\n",
        "c=500\n",
        "\n",
        "if a>b and c>a:\n",
        "  print(\"Both conditions are True\")"
      ],
      "metadata": {
        "colab": {
          "base_uri": "https://localhost:8080/"
        },
        "id": "SYt9ND6WTzvR",
        "outputId": "e6aadbba-7f94-46ec-f850-c9a1ca0d4dc4"
      },
      "execution_count": 7,
      "outputs": [
        {
          "output_type": "stream",
          "name": "stdout",
          "text": [
            "Both conditions are True\n"
          ]
        }
      ]
    },
    {
      "cell_type": "markdown",
      "source": [
        "#Or-at least one of the conditions is true"
      ],
      "metadata": {
        "id": "X-hjIs7gUY7A"
      }
    },
    {
      "cell_type": "code",
      "source": [
        "if a>b or a>c:\n",
        "  print(\"At least one of the conditions is True\")"
      ],
      "metadata": {
        "colab": {
          "base_uri": "https://localhost:8080/"
        },
        "id": "4GWz9_eSUeNA",
        "outputId": "ac460f46-ef1c-4ab8-9624-076ba3a92376"
      },
      "execution_count": 8,
      "outputs": [
        {
          "output_type": "stream",
          "name": "stdout",
          "text": [
            "At least one of the conditions is True\n"
          ]
        }
      ]
    },
    {
      "cell_type": "markdown",
      "source": [
        "#Nested if\n",
        "\n",
        "Executes two diff codes depending upon whether text expression is true or false. Also allows user to check for multiple condition and executes it."
      ],
      "metadata": {
        "id": "aT9IGap6VBtk"
      }
    },
    {
      "cell_type": "code",
      "source": [
        "x=41\n",
        "\n",
        "if x>10:\n",
        "  print(\"above ten,\")\n",
        "\n",
        "  if x>20:\n",
        "    print(\"and also above 20!\")\n",
        "\n",
        "    if x>30:\n",
        "      print(\"and also above 30!\")\n",
        "\n",
        "      if x>40:\n",
        "        print(\"and also above 40!\")\n",
        "\n",
        "        if x>50:\n",
        "          print(\"and also above 50!\")\n",
        "\n",
        "        else:\n",
        "          print(\"but not above 50\")\n",
        "\n",
        "      else:\n",
        "        print(\"but not above 40\")\n",
        "\n",
        "    else:\n",
        "      print(\"but not above 30\")\n",
        "\n",
        "  else:\n",
        "    print(\"but not above 20\")\n"
      ],
      "metadata": {
        "colab": {
          "base_uri": "https://localhost:8080/"
        },
        "id": "aqIKh3ANVKX3",
        "outputId": "dad8f813-15f2-4eee-c7f2-35681b2eb02a"
      },
      "execution_count": 24,
      "outputs": [
        {
          "output_type": "stream",
          "name": "stdout",
          "text": [
            "above ten,\n",
            "and also above 20!\n",
            "and also above 30!\n",
            "and also above 40!\n",
            "but not above 50\n"
          ]
        }
      ]
    },
    {
      "cell_type": "markdown",
      "source": [
        "#Example 1\n",
        "\n",
        "Write a program that determines if the input age is qualified to vote or not The qualifying age is 18 years old and above.\n"
      ],
      "metadata": {
        "id": "o4J8gPAGaq22"
      }
    },
    {
      "cell_type": "code",
      "source": [
        "Age=int(input(\"Enter Age: \"))\n",
        "\n",
        "if Age>=18:\n",
        "  print(\"Qualified to vote\")\n",
        "\n",
        "else:\n",
        "  print(\"Not qualified to vote\")"
      ],
      "metadata": {
        "colab": {
          "base_uri": "https://localhost:8080/"
        },
        "id": "7jqlxEVtbKm5",
        "outputId": "336ea8c4-45b1-46af-93b9-b26642dd4b59"
      },
      "execution_count": 47,
      "outputs": [
        {
          "output_type": "stream",
          "name": "stdout",
          "text": [
            "Enter Age: 17\n",
            "Not qualified\n"
          ]
        }
      ]
    },
    {
      "cell_type": "markdown",
      "source": [
        "#Example 2\n",
        "\n",
        "Write a program that determines if the input number is POS, NEG and ZERO"
      ],
      "metadata": {
        "id": "so6FhFtgdG8c"
      }
    },
    {
      "cell_type": "code",
      "source": [
        "num=int(input(\"Enter number: \"))\n",
        "\n",
        "if num >0:\n",
        "  print(\"POS\")\n",
        "\n",
        "  if num == 0:\n",
        "    print(\"ZERO\")\n",
        "\n",
        "else:\n",
        "  print(\"NEG\")"
      ],
      "metadata": {
        "colab": {
          "base_uri": "https://localhost:8080/"
        },
        "id": "rVqvmD28de1v",
        "outputId": "ccb33bb7-8928-4479-8c93-3bab9ed12fe4"
      },
      "execution_count": 33,
      "outputs": [
        {
          "output_type": "stream",
          "name": "stdout",
          "text": [
            "Enter number: 10\n",
            "pos\n"
          ]
        }
      ]
    },
    {
      "cell_type": "markdown",
      "source": [
        "#Example 3\n",
        "\n",
        "Write a program to detemine if the grades are passed, or failed\n",
        "\n",
        "if\n",
        "\n",
        "- grade >=,70 passed\n",
        "- grade is 65 to 69, remedial\n",
        "- grade > 64 or below failed\n",
        "\n",
        "- note if negative num, not accepted\n",
        "\n"
      ],
      "metadata": {
        "id": "w2Vx_uh3dHfM"
      }
    },
    {
      "cell_type": "code",
      "source": [
        "\n",
        "grade=int(input(\"Enter grade: \"))\n",
        "\n",
        "if grade>=70:\n",
        "  print(\"Passed\")\n",
        "\n",
        "elif grade>= 65 and grade<= 69:\n",
        "  print(\"Remedial\")\n",
        "\n",
        "elif grade<0:\n",
        "  print(\"Invalid\")\n",
        "\n",
        "else:\n",
        "  print(\"Failed\")"
      ],
      "metadata": {
        "colab": {
          "base_uri": "https://localhost:8080/"
        },
        "id": "N6_ffs-_etcE",
        "outputId": "03ec8fee-dc62-464e-a6c4-d366d29d7a09"
      },
      "execution_count": 54,
      "outputs": [
        {
          "output_type": "stream",
          "name": "stdout",
          "text": [
            "Enter grade: 99\n",
            "Passed\n"
          ]
        }
      ]
    },
    {
      "cell_type": "code",
      "source": [],
      "metadata": {
        "id": "iVer4OFyhSvL"
      },
      "execution_count": null,
      "outputs": []
    }
  ]
}