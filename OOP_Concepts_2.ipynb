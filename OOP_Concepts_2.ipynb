{
  "nbformat": 4,
  "nbformat_minor": 0,
  "metadata": {
    "colab": {
      "provenance": [],
      "authorship_tag": "ABX9TyOyJvHwass4WzF/HHc6oCMj",
      "include_colab_link": true
    },
    "kernelspec": {
      "name": "python3",
      "display_name": "Python 3"
    },
    "language_info": {
      "name": "python"
    }
  },
  "cells": [
    {
      "cell_type": "markdown",
      "metadata": {
        "id": "view-in-github",
        "colab_type": "text"
      },
      "source": [
        "<a href=\"https://colab.research.google.com/github/LimEzra1/CpE009A-OOP/blob/main/OOP_Concepts_2.ipynb\" target=\"_parent\"><img src=\"https://colab.research.google.com/assets/colab-badge.svg\" alt=\"Open In Colab\"/></a>"
      ]
    },
    {
      "cell_type": "code",
      "execution_count": null,
      "metadata": {
        "colab": {
          "base_uri": "https://localhost:8080/"
        },
        "id": "aBF3j3KclzdL",
        "outputId": "a31519f1-0b40-4ee1-c9f8-e14e33080197"
      },
      "outputs": [
        {
          "output_type": "stream",
          "name": "stdout",
          "text": [
            "Names and grades of students:\n",
            "std1 93.0\n",
            "std2 92.66666666666667\n",
            "std3 90.33333333333333\n"
          ]
        }
      ],
      "source": [
        "\n",
        "class Person:\n",
        "    def __init__(self, name):\n",
        "        self.__name = name\n",
        "\n",
        "    def __str__(self):\n",
        "        return self.__name\n",
        "\n",
        "\n",
        "class Student(Person):\n",
        "    def __init__(self, std_num, name, pre_grade, mid_grade, fin_grade):\n",
        "        super().__init__(name)\n",
        "        self.__std_num = std_num\n",
        "        self.__pre_grade = pre_grade\n",
        "        self.__mid_grade = mid_grade\n",
        "        self.__fin_grade = fin_grade\n",
        "\n",
        "    def grade(self):\n",
        "        return (self.__pre_grade + self.__mid_grade + self.__fin_grade) / 3\n",
        "\n",
        "\n",
        "std1 = Student(1, 'std1', 89, 94, 96)\n",
        "std2 = Student(2, 'std2', 95, 91, 92)\n",
        "std3 = Student(3, 'std3', 87, 86, 98)\n",
        "\n",
        "students = [std1, std2, std3]\n",
        "\n",
        "print('Names and grades of students:')\n",
        "for student in students:\n",
        "    print(student, student.grade())"
      ]
    },
    {
      "cell_type": "code",
      "source": [],
      "metadata": {
        "id": "u-bY7_bEoRIi"
      },
      "execution_count": null,
      "outputs": []
    },
    {
      "cell_type": "code",
      "source": [
        "class Person:\n",
        "    def __init__(self, name):\n",
        "        self.__name = name\n",
        "\n",
        "    def __str__(self):\n",
        "        return self.__name\n",
        "\n",
        "\n",
        "class Student(Person):\n",
        "    def __init__(self, std_num, name, pre_grade, mid_grade, fin_grade):\n",
        "        super().__init__(name)\n",
        "        self.__std_num = std_num\n",
        "        self.__pre_grade = pre_grade\n",
        "        self.__mid_grade = mid_grade\n",
        "        self.__fin_grade = fin_grade\n",
        "\n",
        "    def grade(self):\n",
        "        return (self.__pre_grade + self.__mid_grade + self.__fin_grade) / 3\n",
        "\n",
        "\n",
        "std1 = Student(1, 'std1', 89, 94, 96)\n",
        "std2 = Student(2, 'std2', 95, 91, 92)\n",
        "std3 = Student(3, 'std3', 87, 86, 98)\n",
        "\n",
        "students = [std1, std2, std3]\n",
        "\n",
        "print('Names and grades of students:')\n",
        "for student in students:\n",
        "    print(student, student.grade())"
      ],
      "metadata": {
        "colab": {
          "base_uri": "https://localhost:8080/"
        },
        "id": "AhW9nEnJmiFJ",
        "outputId": "6b0be1fa-6e9f-4318-964e-7f62fe1b0413"
      },
      "execution_count": 3,
      "outputs": [
        {
          "output_type": "stream",
          "name": "stdout",
          "text": [
            "Names and grades of students:\n",
            "std1 93.0\n",
            "std2 92.66666666666667\n",
            "std3 90.33333333333333\n"
          ]
        }
      ]
    },
    {
      "cell_type": "code",
      "source": [
        "class Person:\n",
        "    def __init__(self, name):\n",
        "        self.__name = name\n",
        "\n",
        "    def __str__(self):\n",
        "        return self.__name\n",
        "\n",
        "\n",
        "class Student:\n",
        "    def __init__(self, std_num, name, pre_grade, mid_grade, fin_grade):\n",
        "        super().__init__(name)\n",
        "        self.__std_num = std_num\n",
        "        self.__pre_grade = pre_grade\n",
        "        self.__mid_grade = mid_grade\n",
        "        self.__fin_grade = fin_grade\n",
        "\n",
        "    def grade(self):\n",
        "        return (self.__pre_grade + self.__mid_grade + self.__fin_grade) / 3\n",
        "\n",
        "\n",
        "std1 = Student(1, 'std1', 89, 94, 96)\n",
        "std2 = Student(2, 'std2', 95, 91, 92)\n",
        "std3 = Student(3, 'std3', 87, 86, 98)\n",
        "\n",
        "students = [std1, std2, std3]\n",
        "\n",
        "print('Names and grades of students:')\n",
        "for student in students:\n",
        "    print(student, student.grade())\n"
      ],
      "metadata": {
        "colab": {
          "base_uri": "https://localhost:8080/",
          "height": 341
        },
        "id": "QHdONUmtmjJK",
        "outputId": "38f835f2-c459-474c-e0ad-bbd1659104f3"
      },
      "execution_count": 5,
      "outputs": [
        {
          "output_type": "error",
          "ename": "TypeError",
          "evalue": "object.__init__() takes exactly one argument (the instance to initialize)",
          "traceback": [
            "\u001b[0;31m---------------------------------------------------------------------------\u001b[0m",
            "\u001b[0;31mTypeError\u001b[0m                                 Traceback (most recent call last)",
            "\u001b[0;32m<ipython-input-5-90373786e5f1>\u001b[0m in \u001b[0;36m<cell line: 21>\u001b[0;34m()\u001b[0m\n\u001b[1;32m     19\u001b[0m \u001b[0;34m\u001b[0m\u001b[0m\n\u001b[1;32m     20\u001b[0m \u001b[0;34m\u001b[0m\u001b[0m\n\u001b[0;32m---> 21\u001b[0;31m \u001b[0mstd1\u001b[0m \u001b[0;34m=\u001b[0m \u001b[0mStudent\u001b[0m\u001b[0;34m(\u001b[0m\u001b[0;36m1\u001b[0m\u001b[0;34m,\u001b[0m \u001b[0;34m'std1'\u001b[0m\u001b[0;34m,\u001b[0m \u001b[0;36m89\u001b[0m\u001b[0;34m,\u001b[0m \u001b[0;36m94\u001b[0m\u001b[0;34m,\u001b[0m \u001b[0;36m96\u001b[0m\u001b[0;34m)\u001b[0m\u001b[0;34m\u001b[0m\u001b[0;34m\u001b[0m\u001b[0m\n\u001b[0m\u001b[1;32m     22\u001b[0m \u001b[0mstd2\u001b[0m \u001b[0;34m=\u001b[0m \u001b[0mStudent\u001b[0m\u001b[0;34m(\u001b[0m\u001b[0;36m2\u001b[0m\u001b[0;34m,\u001b[0m \u001b[0;34m'std2'\u001b[0m\u001b[0;34m,\u001b[0m \u001b[0;36m95\u001b[0m\u001b[0;34m,\u001b[0m \u001b[0;36m91\u001b[0m\u001b[0;34m,\u001b[0m \u001b[0;36m92\u001b[0m\u001b[0;34m)\u001b[0m\u001b[0;34m\u001b[0m\u001b[0;34m\u001b[0m\u001b[0m\n\u001b[1;32m     23\u001b[0m \u001b[0mstd3\u001b[0m \u001b[0;34m=\u001b[0m \u001b[0mStudent\u001b[0m\u001b[0;34m(\u001b[0m\u001b[0;36m3\u001b[0m\u001b[0;34m,\u001b[0m \u001b[0;34m'std3'\u001b[0m\u001b[0;34m,\u001b[0m \u001b[0;36m87\u001b[0m\u001b[0;34m,\u001b[0m \u001b[0;36m86\u001b[0m\u001b[0;34m,\u001b[0m \u001b[0;36m98\u001b[0m\u001b[0;34m)\u001b[0m\u001b[0;34m\u001b[0m\u001b[0;34m\u001b[0m\u001b[0m\n",
            "\u001b[0;32m<ipython-input-5-90373786e5f1>\u001b[0m in \u001b[0;36m__init__\u001b[0;34m(self, std_num, name, pre_grade, mid_grade, fin_grade)\u001b[0m\n\u001b[1;32m      9\u001b[0m \u001b[0;32mclass\u001b[0m \u001b[0mStudent\u001b[0m\u001b[0;34m:\u001b[0m\u001b[0;34m\u001b[0m\u001b[0;34m\u001b[0m\u001b[0m\n\u001b[1;32m     10\u001b[0m     \u001b[0;32mdef\u001b[0m \u001b[0m__init__\u001b[0m\u001b[0;34m(\u001b[0m\u001b[0mself\u001b[0m\u001b[0;34m,\u001b[0m \u001b[0mstd_num\u001b[0m\u001b[0;34m,\u001b[0m \u001b[0mname\u001b[0m\u001b[0;34m,\u001b[0m \u001b[0mpre_grade\u001b[0m\u001b[0;34m,\u001b[0m \u001b[0mmid_grade\u001b[0m\u001b[0;34m,\u001b[0m \u001b[0mfin_grade\u001b[0m\u001b[0;34m)\u001b[0m\u001b[0;34m:\u001b[0m\u001b[0;34m\u001b[0m\u001b[0;34m\u001b[0m\u001b[0m\n\u001b[0;32m---> 11\u001b[0;31m         \u001b[0msuper\u001b[0m\u001b[0;34m(\u001b[0m\u001b[0;34m)\u001b[0m\u001b[0;34m.\u001b[0m\u001b[0m__init__\u001b[0m\u001b[0;34m(\u001b[0m\u001b[0mname\u001b[0m\u001b[0;34m)\u001b[0m\u001b[0;34m\u001b[0m\u001b[0;34m\u001b[0m\u001b[0m\n\u001b[0m\u001b[1;32m     12\u001b[0m         \u001b[0mself\u001b[0m\u001b[0;34m.\u001b[0m\u001b[0m__std_num\u001b[0m \u001b[0;34m=\u001b[0m \u001b[0mstd_num\u001b[0m\u001b[0;34m\u001b[0m\u001b[0;34m\u001b[0m\u001b[0m\n\u001b[1;32m     13\u001b[0m         \u001b[0mself\u001b[0m\u001b[0;34m.\u001b[0m\u001b[0m__pre_grade\u001b[0m \u001b[0;34m=\u001b[0m \u001b[0mpre_grade\u001b[0m\u001b[0;34m\u001b[0m\u001b[0;34m\u001b[0m\u001b[0m\n",
            "\u001b[0;31mTypeError\u001b[0m: object.__init__() takes exactly one argument (the instance to initialize)"
          ]
        }
      ]
    },
    {
      "cell_type": "code",
      "source": [
        "class Person:\n",
        "  def __init__(self,name):\n",
        "    self.__name = name\n",
        "\n",
        "class Student(Person):\n",
        "  def __init__(self, std_num, pre_grade, mid_grade, fin_grade):\n",
        "    self.__std_num = std_num\n",
        "    self.__pre_grade = pre_grade\n",
        "    self.__mid_grade = mid_grade\n",
        "    self.__fin_grade = fin_grade\n",
        "\n",
        "  def grade(self):\n",
        "    return(self.__pre_grade, self.__mid_grade, self.__fin_grade)/3\n",
        "\n",
        "std1 = Student(1, 89, 94, 96)\n",
        "std2 = Student(2, 95, 91, 92)\n",
        "std3 = Student(3, 87, 86, 98)\n",
        "\n",
        "students = [std1, std2, std3]\n",
        "\n",
        "print('Names and grades of students:')\n",
        "for student in students:\n",
        "    print(student)"
      ],
      "metadata": {
        "colab": {
          "base_uri": "https://localhost:8080/"
        },
        "id": "2tL3VvrAoTDh",
        "outputId": "5b5a3b52-0619-4107-ba43-d34c3be3ca31"
      },
      "execution_count": 6,
      "outputs": [
        {
          "output_type": "stream",
          "name": "stdout",
          "text": [
            "Names and grades of students:\n",
            "<__main__.Student object at 0x7b31501289d0>\n",
            "<__main__.Student object at 0x7b315012b370>\n",
            "<__main__.Student object at 0x7b315012a200>\n"
          ]
        }
      ]
    },
    {
      "cell_type": "code",
      "source": [
        "class Person:\n",
        "  def __init__(self, std_num, pre_grade, mid_grade, fin_grade):\n",
        "    self.__std_num = std_num\n",
        "    self.__pre_grade = pre_grade\n",
        "    self.__mid_grade = mid_grade\n",
        "    self.__fin_grade = fin_grade\n",
        "\n",
        "  def grade(self):\n",
        "    n=round((self.__pre_grade, self.__mid_grade, self.__fin_grade)/3)\n",
        "    return (f\"{self.__std_num}\"+str(n))\n",
        "class Student1(Person):\n",
        "  pass\n",
        "class Student1(Person):\n",
        "  pass\n",
        "class Student1(Person):\n",
        "  pass\n",
        "\n",
        "std1 = Student(\"1\", 89, 94, 96)\n",
        "print(std1.grade())\n",
        "std2 = Student(\"2\", 95, 91, 92)\n",
        "print(std1.grade())\n",
        "std3 = Student(\"3\", 87, 86, 98)\n",
        "print(std1.grade())"
      ],
      "metadata": {
        "colab": {
          "base_uri": "https://localhost:8080/",
          "height": 341
        },
        "id": "-zjyR0P-odrp",
        "outputId": "030e95d2-5788-4b00-f138-7fe904153196"
      },
      "execution_count": 15,
      "outputs": [
        {
          "output_type": "error",
          "ename": "TypeError",
          "evalue": "unsupported operand type(s) for /: 'tuple' and 'int'",
          "traceback": [
            "\u001b[0;31m---------------------------------------------------------------------------\u001b[0m",
            "\u001b[0;31mTypeError\u001b[0m                                 Traceback (most recent call last)",
            "\u001b[0;32m<ipython-input-15-906cfef88f0a>\u001b[0m in \u001b[0;36m<cell line: 19>\u001b[0;34m()\u001b[0m\n\u001b[1;32m     17\u001b[0m \u001b[0;34m\u001b[0m\u001b[0m\n\u001b[1;32m     18\u001b[0m \u001b[0mstd1\u001b[0m \u001b[0;34m=\u001b[0m \u001b[0mStudent\u001b[0m\u001b[0;34m(\u001b[0m\u001b[0;34m\"1\"\u001b[0m\u001b[0;34m,\u001b[0m \u001b[0;36m89\u001b[0m\u001b[0;34m,\u001b[0m \u001b[0;36m94\u001b[0m\u001b[0;34m,\u001b[0m \u001b[0;36m96\u001b[0m\u001b[0;34m)\u001b[0m\u001b[0;34m\u001b[0m\u001b[0;34m\u001b[0m\u001b[0m\n\u001b[0;32m---> 19\u001b[0;31m \u001b[0mprint\u001b[0m\u001b[0;34m(\u001b[0m\u001b[0mstd1\u001b[0m\u001b[0;34m.\u001b[0m\u001b[0mgrade\u001b[0m\u001b[0;34m(\u001b[0m\u001b[0;34m)\u001b[0m\u001b[0;34m)\u001b[0m\u001b[0;34m\u001b[0m\u001b[0;34m\u001b[0m\u001b[0m\n\u001b[0m\u001b[1;32m     20\u001b[0m \u001b[0mstd2\u001b[0m \u001b[0;34m=\u001b[0m \u001b[0mStudent\u001b[0m\u001b[0;34m(\u001b[0m\u001b[0;34m\"2\"\u001b[0m\u001b[0;34m,\u001b[0m \u001b[0;36m95\u001b[0m\u001b[0;34m,\u001b[0m \u001b[0;36m91\u001b[0m\u001b[0;34m,\u001b[0m \u001b[0;36m92\u001b[0m\u001b[0;34m)\u001b[0m\u001b[0;34m\u001b[0m\u001b[0;34m\u001b[0m\u001b[0m\n\u001b[1;32m     21\u001b[0m \u001b[0mprint\u001b[0m\u001b[0;34m(\u001b[0m\u001b[0mstd1\u001b[0m\u001b[0;34m.\u001b[0m\u001b[0mgrade\u001b[0m\u001b[0;34m(\u001b[0m\u001b[0;34m)\u001b[0m\u001b[0;34m)\u001b[0m\u001b[0;34m\u001b[0m\u001b[0;34m\u001b[0m\u001b[0m\n",
            "\u001b[0;32m<ipython-input-6-7225b8cba5ba>\u001b[0m in \u001b[0;36mgrade\u001b[0;34m(self)\u001b[0m\n\u001b[1;32m     11\u001b[0m \u001b[0;34m\u001b[0m\u001b[0m\n\u001b[1;32m     12\u001b[0m   \u001b[0;32mdef\u001b[0m \u001b[0mgrade\u001b[0m\u001b[0;34m(\u001b[0m\u001b[0mself\u001b[0m\u001b[0;34m)\u001b[0m\u001b[0;34m:\u001b[0m\u001b[0;34m\u001b[0m\u001b[0;34m\u001b[0m\u001b[0m\n\u001b[0;32m---> 13\u001b[0;31m     \u001b[0;32mreturn\u001b[0m\u001b[0;34m(\u001b[0m\u001b[0mself\u001b[0m\u001b[0;34m.\u001b[0m\u001b[0m__pre_grade\u001b[0m\u001b[0;34m,\u001b[0m \u001b[0mself\u001b[0m\u001b[0;34m.\u001b[0m\u001b[0m__mid_grade\u001b[0m\u001b[0;34m,\u001b[0m \u001b[0mself\u001b[0m\u001b[0;34m.\u001b[0m\u001b[0m__fin_grade\u001b[0m\u001b[0;34m)\u001b[0m\u001b[0;34m/\u001b[0m\u001b[0;36m3\u001b[0m\u001b[0;34m\u001b[0m\u001b[0;34m\u001b[0m\u001b[0m\n\u001b[0m\u001b[1;32m     14\u001b[0m \u001b[0;34m\u001b[0m\u001b[0m\n\u001b[1;32m     15\u001b[0m \u001b[0mstd1\u001b[0m \u001b[0;34m=\u001b[0m \u001b[0mStudent\u001b[0m\u001b[0;34m(\u001b[0m\u001b[0;36m1\u001b[0m\u001b[0;34m,\u001b[0m \u001b[0;36m89\u001b[0m\u001b[0;34m,\u001b[0m \u001b[0;36m94\u001b[0m\u001b[0;34m,\u001b[0m \u001b[0;36m96\u001b[0m\u001b[0;34m)\u001b[0m\u001b[0;34m\u001b[0m\u001b[0;34m\u001b[0m\u001b[0m\n",
            "\u001b[0;31mTypeError\u001b[0m: unsupported operand type(s) for /: 'tuple' and 'int'"
          ]
        }
      ]
    },
    {
      "cell_type": "markdown",
      "source": [
        "create class name shapes (5shapes)\n",
        "\n",
        "attribute sides\n",
        "\n",
        "create function/method that displays the no. of sides of the shape\n",
        "\n",
        "apply inheritance and encapsulation"
      ],
      "metadata": {
        "id": "UYc8bIDur-HW"
      }
    },
    {
      "cell_type": "code",
      "source": [
        "class Shapes:\n",
        "  def __init__(self,name,sides):\n",
        "    self.__name = name\n",
        "    self.__sides = sides\n",
        "\n",
        "  def numOfsides(self):\n",
        "    print(f\"{self.__name}'s sides are {self.__sides}\")\n",
        "\n",
        "class Shape1(Shapes):\n",
        "  pass\n",
        "class Shape2(Shapes):\n",
        "  pass\n",
        "class Shape3(Shapes):\n",
        "  pass\n",
        "class Shape4(Shapes):\n",
        "  pass\n",
        "class Shape5(Shapes):\n",
        "  pass\n",
        "\n",
        "shape1 = Shape1(\"Square\",4)\n",
        "shape2 = Shape2(\"Triangle\",3)\n",
        "shape3 = Shape3(\"Octagon\",8)\n",
        "shape4 = Shape4(\"Heptagon\",7)\n",
        "shape5 = Shape5(\"Hexagon\",6)\n",
        "\n",
        "shape1.numOfsides()\n",
        "shape2.numOfsides()\n",
        "shape3.numOfsides()\n",
        "shape4.numOfsides()\n",
        "shape5.numOfsides()"
      ],
      "metadata": {
        "colab": {
          "base_uri": "https://localhost:8080/"
        },
        "id": "UqoQhX64sB3M",
        "outputId": "76c58c24-3d5d-4d4a-a9ae-36f69087d677"
      },
      "execution_count": 21,
      "outputs": [
        {
          "output_type": "stream",
          "name": "stdout",
          "text": [
            "Square\n",
            "4\n"
          ]
        }
      ]
    },
    {
      "cell_type": "code",
      "source": [],
      "metadata": {
        "id": "9X79RLVbuMAM"
      },
      "execution_count": null,
      "outputs": []
    }
  ]
}