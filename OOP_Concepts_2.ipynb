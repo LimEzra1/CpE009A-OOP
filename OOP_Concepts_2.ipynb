{
  "nbformat": 4,
  "nbformat_minor": 0,
  "metadata": {
    "colab": {
      "provenance": [],
      "authorship_tag": "ABX9TyM13dzuHYj8r15S7GjpcXbx",
      "include_colab_link": true
    },
    "kernelspec": {
      "name": "python3",
      "display_name": "Python 3"
    },
    "language_info": {
      "name": "python"
    }
  },
  "cells": [
    {
      "cell_type": "markdown",
      "metadata": {
        "id": "view-in-github",
        "colab_type": "text"
      },
      "source": [
        "<a href=\"https://colab.research.google.com/github/LimEzra1/CpE009A-OOP/blob/main/OOP_Concepts_2.ipynb\" target=\"_parent\"><img src=\"https://colab.research.google.com/assets/colab-badge.svg\" alt=\"Open In Colab\"/></a>"
      ]
    },
    {
      "cell_type": "markdown",
      "source": [
        "create class name shapes (5shapes)\n",
        "\n",
        "attribute sides\n",
        "\n",
        "create function/method that displays the no. of sides of the shape\n",
        "\n",
        "apply inheritance and encapsulation"
      ],
      "metadata": {
        "id": "UYc8bIDur-HW"
      }
    },
    {
      "cell_type": "code",
      "source": [
        "class Shapes:\n",
        "  def __init__(self,name,sides):\n",
        "    self.__name = name\n",
        "    self.__sides = sides\n",
        "\n",
        "  def numOfsides(self):\n",
        "    print(f\"{self.__name}'s sides are {self.__sides}\")\n",
        "\n",
        "class Shape1(Shapes):\n",
        "  pass\n",
        "class Shape2(Shapes):\n",
        "  pass\n",
        "class Shape3(Shapes):\n",
        "  pass\n",
        "class Shape4(Shapes):\n",
        "  pass\n",
        "class Shape5(Shapes):\n",
        "  pass\n",
        "\n",
        "shape1 = Shape1(\"Square\",4)\n",
        "shape2 = Shape2(\"Triangle\",3)\n",
        "shape3 = Shape3(\"Octagon\",8)\n",
        "shape4 = Shape4(\"Heptagon\",7)\n",
        "shape5 = Shape5(\"Hexagon\",6)\n",
        "\n",
        "shape1.numOfsides()\n",
        "shape2.numOfsides()\n",
        "shape3.numOfsides()\n",
        "shape4.numOfsides()\n",
        "shape5.numOfsides()"
      ],
      "metadata": {
        "colab": {
          "base_uri": "https://localhost:8080/"
        },
        "id": "UqoQhX64sB3M",
        "outputId": "7226de17-79fb-4c78-9992-3e896d8c63a9"
      },
      "execution_count": 22,
      "outputs": [
        {
          "output_type": "stream",
          "name": "stdout",
          "text": [
            "Square's sides are 4\n",
            "Triangle's sides are 3\n",
            "Octagon's sides are 8\n",
            "Heptagon's sides are 7\n",
            "Hexagon's sides are 6\n"
          ]
        }
      ]
    }
  ]
}