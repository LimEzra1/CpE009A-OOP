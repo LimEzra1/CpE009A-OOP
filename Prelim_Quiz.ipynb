{
  "nbformat": 4,
  "nbformat_minor": 0,
  "metadata": {
    "colab": {
      "provenance": [],
      "authorship_tag": "ABX9TyMA74G+vkkVQwJsCQxvaSKs",
      "include_colab_link": true
    },
    "kernelspec": {
      "name": "python3",
      "display_name": "Python 3"
    },
    "language_info": {
      "name": "python"
    }
  },
  "cells": [
    {
      "cell_type": "markdown",
      "metadata": {
        "id": "view-in-github",
        "colab_type": "text"
      },
      "source": [
        "<a href=\"https://colab.research.google.com/github/LimEzra1/CpE009A-OOP/blob/main/Prelim_Quiz.ipynb\" target=\"_parent\"><img src=\"https://colab.research.google.com/assets/colab-badge.svg\" alt=\"Open In Colab\"/></a>"
      ]
    },
    {
      "cell_type": "code",
      "execution_count": 14,
      "metadata": {
        "colab": {
          "base_uri": "https://localhost:8080/"
        },
        "id": "qg5CblQVSUjY",
        "outputId": "7f274d6e-04ae-4714-b7f0-590349aadc96"
      },
      "outputs": [
        {
          "output_type": "stream",
          "name": "stdout",
          "text": [
            "The sum of the numbers are:  210\n",
            "The average of the numbers are:  10.5\n"
          ]
        }
      ],
      "source": [
        "n = 20\n",
        "totalNumbers = n\n",
        "sum = 0\n",
        "average = 0\n",
        "\n",
        "while n>=0:\n",
        "  sum += n\n",
        "  n -= 1\n",
        "\n",
        "print(\"The sum of the numbers are: \", sum)\n",
        "\n",
        "average = sum/totalNumbers\n",
        "print(\"The average of the numbers are: \", average)"
      ]
    },
    {
      "cell_type": "markdown",
      "source": [
        "#Flowchart\n",
        "\n",
        "\n"
      ],
      "metadata": {
        "id": "xubwphj3XokR"
      }
    }
  ]
}