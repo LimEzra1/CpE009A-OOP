{
  "nbformat": 4,
  "nbformat_minor": 0,
  "metadata": {
    "colab": {
      "provenance": [],
      "authorship_tag": "ABX9TyPYrvWPoUIIJ9PONq4eyvtw",
      "include_colab_link": true
    },
    "kernelspec": {
      "name": "python3",
      "display_name": "Python 3"
    },
    "language_info": {
      "name": "python"
    }
  },
  "cells": [
    {
      "cell_type": "markdown",
      "metadata": {
        "id": "view-in-github",
        "colab_type": "text"
      },
      "source": [
        "<a href=\"https://colab.research.google.com/github/LimEzra1/CpE009A-OOP/blob/main/Demo1.ipynb\" target=\"_parent\"><img src=\"https://colab.research.google.com/assets/colab-badge.svg\" alt=\"Open In Colab\"/></a>"
      ]
    },
    {
      "cell_type": "markdown",
      "source": [
        "#Python Indentation\n"
      ],
      "metadata": {
        "id": "yDtKyDFwIlli"
      }
    },
    {
      "cell_type": "code",
      "source": [
        "if 5>2:\n",
        "  print(\"Five is greater than two\")"
      ],
      "metadata": {
        "colab": {
          "base_uri": "https://localhost:8080/"
        },
        "id": "f-uqrtpwI1-B",
        "outputId": "2f804ba8-4213-4085-f4d9-18454d9ad548"
      },
      "execution_count": 10,
      "outputs": [
        {
          "output_type": "stream",
          "name": "stdout",
          "text": [
            "Five is greater than two\n"
          ]
        }
      ]
    },
    {
      "cell_type": "markdown",
      "source": [
        "#Python Comments"
      ],
      "metadata": {
        "id": "r4aDH14TJ3DZ"
      }
    },
    {
      "cell_type": "code",
      "source": [
        "if 5>2:\n",
        "  print(\"Five is greater than two\") #comparison of numbers 5 and 2\n",
        ""
      ],
      "metadata": {
        "colab": {
          "base_uri": "https://localhost:8080/"
        },
        "id": "GtxIGFSsKTY0",
        "outputId": "a870e6b7-4bc4-4f4d-e44f-53b69d9cc662"
      },
      "execution_count": 11,
      "outputs": [
        {
          "output_type": "stream",
          "name": "stdout",
          "text": [
            "Five is greater than two\n"
          ]
        }
      ]
    },
    {
      "cell_type": "markdown",
      "source": [
        "#Python Variable"
      ],
      "metadata": {
        "id": "X9M2YwhzLd3j"
      }
    },
    {
      "cell_type": "code",
      "source": [
        "x=1 #single variable with a value\n",
        "a,b,c=0,-1,2\n",
        "\n",
        "print(a)\n",
        "print(b,c)\n",
        "print(x)\n",
        "\n",
        "b='Sally'\n",
        "print(b)"
      ],
      "metadata": {
        "colab": {
          "base_uri": "https://localhost:8080/"
        },
        "id": "BF-BbO7cLhVS",
        "outputId": "aed4b2ef-a9bb-4a7d-bdb4-52808300402e"
      },
      "execution_count": 23,
      "outputs": [
        {
          "output_type": "stream",
          "name": "stdout",
          "text": [
            "0\n",
            "-1 2\n",
            "1\n",
            "Sally\n"
          ]
        }
      ]
    },
    {
      "cell_type": "markdown",
      "source": [
        "#Casting"
      ],
      "metadata": {
        "id": "iJgJrgFGNesV"
      }
    },
    {
      "cell_type": "code",
      "source": [
        "b=\"sally\" #This is a type of string\n",
        "b=int(4)\n",
        "print(b)\n",
        "\n",
        "b=float(4)\n",
        "print(b)"
      ],
      "metadata": {
        "colab": {
          "base_uri": "https://localhost:8080/"
        },
        "id": "RBVuoq2fNir0",
        "outputId": "00b8ea8f-215a-4d1a-db50-25b21b75dc77"
      },
      "execution_count": 24,
      "outputs": [
        {
          "output_type": "stream",
          "name": "stdout",
          "text": [
            "4\n",
            "4.0\n"
          ]
        }
      ]
    },
    {
      "cell_type": "markdown",
      "source": [
        "#Type() function"
      ],
      "metadata": {
        "id": "eL8LD4zuOwk6"
      }
    },
    {
      "cell_type": "code",
      "source": [
        "x=5\n",
        "y='John'\n",
        "print(type(x))\n",
        "print(type(y))"
      ],
      "metadata": {
        "colab": {
          "base_uri": "https://localhost:8080/"
        },
        "id": "yLatJUcuO1d6",
        "outputId": "721b5c45-8a82-4ab2-ce23-df3d416fbab2"
      },
      "execution_count": 25,
      "outputs": [
        {
          "output_type": "stream",
          "name": "stdout",
          "text": [
            "<class 'int'>\n",
            "<class 'str'>\n"
          ]
        }
      ]
    },
    {
      "cell_type": "markdown",
      "source": [
        "#Double Quotes or Single Quotes"
      ],
      "metadata": {
        "id": "zLt6sZqMPUnc"
      }
    },
    {
      "cell_type": "code",
      "source": [
        "y=\"John\"\n",
        "\n",
        "print(y)\n",
        "y='John'\n",
        "\n",
        "print(y)"
      ],
      "metadata": {
        "colab": {
          "base_uri": "https://localhost:8080/"
        },
        "id": "ffRplPOVPZ0i",
        "outputId": "d4ef6ec2-4644-43f9-fdc5-18b16af3a30c"
      },
      "execution_count": 28,
      "outputs": [
        {
          "output_type": "stream",
          "name": "stdout",
          "text": [
            "John\n",
            "John\n"
          ]
        }
      ]
    },
    {
      "cell_type": "markdown",
      "source": [
        "#Case Sentitive"
      ],
      "metadata": {
        "id": "C6zK76uTP0nE"
      }
    },
    {
      "cell_type": "code",
      "source": [
        "a=4\n",
        "A=\"Sally\" #A will ont overwrite a"
      ],
      "metadata": {
        "id": "slP8ix-QP3SD"
      },
      "execution_count": null,
      "outputs": []
    },
    {
      "cell_type": "markdown",
      "source": [
        "#Multiple Variables"
      ],
      "metadata": {
        "id": "Chp2uPUEQLnr"
      }
    },
    {
      "cell_type": "code",
      "source": [
        "x,y,z=\"one\",\"two\",\"three\"\n",
        "print(x)\n",
        "print(y)\n",
        "print(z)"
      ],
      "metadata": {
        "colab": {
          "base_uri": "https://localhost:8080/"
        },
        "id": "xZuVFicoQOhq",
        "outputId": "4f4804de-9bd0-48bd-dee7-bc59fd153af8"
      },
      "execution_count": 29,
      "outputs": [
        {
          "output_type": "stream",
          "name": "stdout",
          "text": [
            "one\n",
            "two\n",
            "three\n"
          ]
        }
      ]
    },
    {
      "cell_type": "markdown",
      "source": [
        "#One Value to Multiple Variables"
      ],
      "metadata": {
        "id": "q5JyzksEQ3_D"
      }
    },
    {
      "cell_type": "code",
      "source": [
        "x=y=z=\"four\"\n",
        "print(x)\n",
        "print(y)\n",
        "print(z)"
      ],
      "metadata": {
        "colab": {
          "base_uri": "https://localhost:8080/"
        },
        "id": "prEkYTJUQ9QL",
        "outputId": "814f5ecc-444f-4be2-fe70-562bfb86af0e"
      },
      "execution_count": 32,
      "outputs": [
        {
          "output_type": "stream",
          "name": "stdout",
          "text": [
            "four\n",
            "four\n",
            "four\n"
          ]
        }
      ]
    },
    {
      "cell_type": "markdown",
      "source": [
        "#Output Variables"
      ],
      "metadata": {
        "id": "OLVOhrVvRNoi"
      }
    },
    {
      "cell_type": "code",
      "source": [
        "x=\"Enjoying\"\n",
        "print(\"Python programming is \"+ x)\n",
        "\n",
        "x=\"Python is \"\n",
        "y=\"enjoying\"\n",
        "z=x+y\n",
        "\n",
        "print(z)"
      ],
      "metadata": {
        "colab": {
          "base_uri": "https://localhost:8080/"
        },
        "id": "b1pp6968RSMC",
        "outputId": "284f2a08-99a0-4b81-bfdd-4e70c5c23c60"
      },
      "execution_count": 38,
      "outputs": [
        {
          "output_type": "stream",
          "name": "stdout",
          "text": [
            "Python programming is Enjoying\n",
            "Python is enjoying\n"
          ]
        }
      ]
    },
    {
      "cell_type": "markdown",
      "source": [
        "#Arithmetic Operations"
      ],
      "metadata": {
        "id": "LlRCbaDWUnVb"
      }
    },
    {
      "cell_type": "markdown",
      "source": [
        "# + Addition\n",
        "# - Subtraction\n",
        "# * Multiplication\n",
        "# / Division\n",
        "# % Modulus\n",
        "# ** Exponetiation\n",
        "# // Quotient\n"
      ],
      "metadata": {
        "id": "anvgHoedU71T"
      }
    },
    {
      "cell_type": "code",
      "source": [
        "x=5\n",
        "y=3\n",
        "print(x+y)\n",
        "\n",
        "x=5\n",
        "y=3\n",
        "sum=x+y\n",
        "sum"
      ],
      "metadata": {
        "colab": {
          "base_uri": "https://localhost:8080/"
        },
        "id": "EKOIj3_fUxJl",
        "outputId": "984d92c1-9e4a-441e-e6d4-d505c4057e16"
      },
      "execution_count": 39,
      "outputs": [
        {
          "output_type": "stream",
          "name": "stdout",
          "text": [
            "8\n"
          ]
        },
        {
          "output_type": "execute_result",
          "data": {
            "text/plain": [
              "8"
            ]
          },
          "metadata": {},
          "execution_count": 39
        }
      ]
    },
    {
      "cell_type": "markdown",
      "source": [
        "#Assignment Operators"
      ],
      "metadata": {
        "id": "IM8PH-ZRWI0g"
      }
    },
    {
      "cell_type": "code",
      "source": [
        "a,b,c=0,-1,6\n",
        "c%=3\n",
        "c"
      ],
      "metadata": {
        "colab": {
          "base_uri": "https://localhost:8080/"
        },
        "id": "vWSd4sgdWEMF",
        "outputId": "acb206ea-a0d1-4028-e8e3-d42e84de1e7f"
      },
      "execution_count": 40,
      "outputs": [
        {
          "output_type": "execute_result",
          "data": {
            "text/plain": [
              "0"
            ]
          },
          "metadata": {},
          "execution_count": 40
        }
      ]
    },
    {
      "cell_type": "markdown",
      "source": [
        "#Comparison Operators\n",
        "==\n",
        "#!=\n",
        "#>\n",
        "#<\n",
        "#>=\n",
        "#<=\n",
        "\n"
      ],
      "metadata": {
        "id": "9HtRpqqnWcRX"
      }
    },
    {
      "cell_type": "code",
      "source": [
        "x=1\n",
        "y=1\n",
        "x==y"
      ],
      "metadata": {
        "colab": {
          "base_uri": "https://localhost:8080/"
        },
        "id": "9xsfSl0wWgYE",
        "outputId": "ef61b647-f83b-4607-d01f-adc745bd8a46"
      },
      "execution_count": 45,
      "outputs": [
        {
          "output_type": "execute_result",
          "data": {
            "text/plain": [
              "True"
            ]
          },
          "metadata": {},
          "execution_count": 45
        }
      ]
    },
    {
      "cell_type": "markdown",
      "source": [
        "#Logical Operators"
      ],
      "metadata": {
        "id": "53mrgVgFXL5j"
      }
    },
    {
      "cell_type": "code",
      "source": [
        "x=1\n",
        "x<5 and x<10"
      ],
      "metadata": {
        "colab": {
          "base_uri": "https://localhost:8080/"
        },
        "id": "rfHfsnWXXQGU",
        "outputId": "8be66816-7fe9-4bd7-ab30-71100acab8ee"
      },
      "execution_count": 46,
      "outputs": [
        {
          "output_type": "execute_result",
          "data": {
            "text/plain": [
              "True"
            ]
          },
          "metadata": {},
          "execution_count": 46
        }
      ]
    },
    {
      "cell_type": "markdown",
      "source": [
        "#Identity Operators"
      ],
      "metadata": {
        "id": "1TKFelSnXihJ"
      }
    },
    {
      "cell_type": "code",
      "source": [
        "a,b,c=0,-1,5\n",
        "print(a is c)\n",
        "print(a is a)\n",
        "b is not c"
      ],
      "metadata": {
        "colab": {
          "base_uri": "https://localhost:8080/"
        },
        "id": "8JYAp0MTXmaU",
        "outputId": "d7971864-0144-4809-8ee8-685f194e1982"
      },
      "execution_count": 54,
      "outputs": [
        {
          "output_type": "stream",
          "name": "stdout",
          "text": [
            "False\n",
            "True\n"
          ]
        },
        {
          "output_type": "execute_result",
          "data": {
            "text/plain": [
              "True"
            ]
          },
          "metadata": {},
          "execution_count": 54
        }
      ]
    },
    {
      "cell_type": "markdown",
      "source": [
        "#Bitwise Operators"
      ],
      "metadata": {
        "id": "Bxy8UnP9YG7M"
      }
    },
    {
      "cell_type": "code",
      "source": [
        "print(0^1)\n",
        "print(1^1)\n",
        "print(1^2)"
      ],
      "metadata": {
        "colab": {
          "base_uri": "https://localhost:8080/"
        },
        "id": "UH4ZBG3gadal",
        "outputId": "9b48f9d2-cadb-451c-ce72-99269261385b"
      },
      "execution_count": 64,
      "outputs": [
        {
          "output_type": "stream",
          "name": "stdout",
          "text": [
            "1\n",
            "0\n",
            "3\n"
          ]
        }
      ]
    }
  ]
}