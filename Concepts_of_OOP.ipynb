{
  "nbformat": 4,
  "nbformat_minor": 0,
  "metadata": {
    "colab": {
      "provenance": [],
      "authorship_tag": "ABX9TyN+Qi+bGOXLk/t3HY+pBM83",
      "include_colab_link": true
    },
    "kernelspec": {
      "name": "python3",
      "display_name": "Python 3"
    },
    "language_info": {
      "name": "python"
    }
  },
  "cells": [
    {
      "cell_type": "markdown",
      "metadata": {
        "id": "view-in-github",
        "colab_type": "text"
      },
      "source": [
        "<a href=\"https://colab.research.google.com/github/LimEzra1/CpE009A-OOP/blob/main/Concepts_of_OOP.ipynb\" target=\"_parent\"><img src=\"https://colab.research.google.com/assets/colab-badge.svg\" alt=\"Open In Colab\"/></a>"
      ]
    },
    {
      "cell_type": "markdown",
      "source": [
        "#What is Object Oriented Programming?\n",
        "\n",
        "- goal is to create \"Objects\". An object is a collection of variable and functions that are linked together."
      ],
      "metadata": {
        "id": "CgZzpIEuiBzm"
      }
    },
    {
      "cell_type": "markdown",
      "source": [
        "#Class\n",
        "- A class is a collection of objects. These are data structures that the user defines.\n",
        "\n",
        "Syntax:\n",
        "\n",
        "  Class <class name>:\n",
        "    class body"
      ],
      "metadata": {
        "id": "FwzHUt6cmdvn"
      }
    },
    {
      "cell_type": "code",
      "execution_count": 2,
      "metadata": {
        "colab": {
          "base_uri": "https://localhost:8080/"
        },
        "id": "TPlztEg4abcS",
        "outputId": "67efe315-74fa-432d-b33f-5e01da83f6e8"
      },
      "outputs": [
        {
          "output_type": "stream",
          "name": "stdout",
          "text": [
            "<__main__.Car object at 0x7ebefc7266e0>\n"
          ]
        }
      ],
      "source": [
        "class Car:\n",
        "  pass"
      ]
    },
    {
      "cell_type": "markdown",
      "source": [
        "#Objects and Object Instantiation\n",
        "- The objector instance contains real data or information.\n",
        "- Instantiation is nothing but creating a new object or instance of a class"
      ],
      "metadata": {
        "id": "9VlvAJqCrp-T"
      }
    },
    {
      "cell_type": "code",
      "source": [
        "obj1 = Car()\n",
        "print(obj1)"
      ],
      "metadata": {
        "id": "W6EOhoMGrqiy"
      },
      "execution_count": null,
      "outputs": []
    },
    {
      "cell_type": "markdown",
      "source": [
        "#Class Constructor\n",
        "- Now we have an empty class Car. time to fill it up our class with the properties of the car. The job of the class constructor is to assign the values to the data member of the class when an object of the class is created."
      ],
      "metadata": {
        "id": "9b0p7mdYsTMM"
      }
    },
    {
      "cell_type": "code",
      "source": [
        "class Car: #class constructor\n",
        "  def __init__(self,name,color,mileage):\n",
        "    self.name = name #car attributes\n",
        "    self.color = color\n",
        "    self.mileage = mileage\n",
        "obj1 = Car(\"BMW\",\"Red\",1000) #object name\n",
        "obj2 = Car(\"Toyota\",\"Blue\",1200)\n",
        "\n",
        "print(obj1.name)\n",
        "print(obj1.color)\n",
        "print(obj1.mileage)\n",
        "\n",
        "print(obj2.mileage)"
      ],
      "metadata": {
        "colab": {
          "base_uri": "https://localhost:8080/"
        },
        "id": "zdO6nt40jKw0",
        "outputId": "b7c17e04-5c3d-4027-f879-b96fe317b199"
      },
      "execution_count": 19,
      "outputs": [
        {
          "output_type": "stream",
          "name": "stdout",
          "text": [
            "BMW\n",
            "Red\n",
            "1000\n",
            "1200\n"
          ]
        }
      ]
    },
    {
      "cell_type": "markdown",
      "source": [
        "Application 1-Write a Python program that prints your student information with the following class name Student().object name as student."
      ],
      "metadata": {
        "id": "U1MO0IMHnMd4"
      }
    },
    {
      "cell_type": "code",
      "source": [
        "class Students: #class constructor\n",
        "  def __init__(self,name,age,course,section):\n",
        "    self.name = name # attributes\n",
        "    self.age = age\n",
        "    self.course = course\n",
        "    self.section = section\n",
        "\n",
        "student = Students(\"Lim, Ezra Jodie S.\",21,\"CPE\",\"CPE12S6\") #object name\n",
        "\n",
        "print(\"The student's name is: \",student.name)\n",
        "print(\"The student's age is: \",student.age)\n",
        "print(\"The student's course is: \",student.course)\n",
        "print(\"The student's section is: \",student.section)"
      ],
      "metadata": {
        "colab": {
          "base_uri": "https://localhost:8080/"
        },
        "id": "9ntf6sNgj1C5",
        "outputId": "015c9c4e-9ba7-4e4b-98bf-1efb65142dc7"
      },
      "execution_count": 26,
      "outputs": [
        {
          "output_type": "stream",
          "name": "stdout",
          "text": [
            "The student's name is:  Lim, Ezra Jodie S.\n",
            "The student's age is:  21\n",
            "The student's course is:  CPE\n",
            "The student's section is:  CPE12S6\n"
          ]
        }
      ]
    },
    {
      "cell_type": "code",
      "source": [],
      "metadata": {
        "id": "aLNRQ0C9oQxX"
      },
      "execution_count": 26,
      "outputs": []
    }
  ]
}