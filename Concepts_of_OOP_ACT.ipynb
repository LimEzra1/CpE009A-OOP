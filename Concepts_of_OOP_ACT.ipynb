{
  "nbformat": 4,
  "nbformat_minor": 0,
  "metadata": {
    "colab": {
      "provenance": [],
      "authorship_tag": "ABX9TyNjcFiGn37NhQB/q1ItJoj1",
      "include_colab_link": true
    },
    "kernelspec": {
      "name": "python3",
      "display_name": "Python 3"
    },
    "language_info": {
      "name": "python"
    }
  },
  "cells": [
    {
      "cell_type": "markdown",
      "metadata": {
        "id": "view-in-github",
        "colab_type": "text"
      },
      "source": [
        "<a href=\"https://colab.research.google.com/github/LimEzra1/CpE009A-OOP/blob/main/Concepts_of_OOP_ACT.ipynb\" target=\"_parent\"><img src=\"https://colab.research.google.com/assets/colab-badge.svg\" alt=\"Open In Colab\"/></a>"
      ]
    },
    {
      "cell_type": "code",
      "execution_count": null,
      "metadata": {
        "colab": {
          "base_uri": "https://localhost:8080/"
        },
        "id": "aBF3j3KclzdL",
        "outputId": "a31519f1-0b40-4ee1-c9f8-e14e33080197"
      },
      "outputs": [
        {
          "output_type": "stream",
          "name": "stdout",
          "text": [
            "Names and grades of students:\n",
            "std1 93.0\n",
            "std2 92.66666666666667\n",
            "std3 90.33333333333333\n"
          ]
        }
      ],
      "source": [
        "\n",
        "class Person:\n",
        "    def __init__(self, name):\n",
        "        self.__name = name\n",
        "\n",
        "    def __str__(self):\n",
        "        return self.__name\n",
        "\n",
        "\n",
        "class Student(Person):\n",
        "    def __init__(self, std_num, name, pre_grade, mid_grade, fin_grade):\n",
        "        super().__init__(name)\n",
        "        self.__std_num = std_num\n",
        "        self.__pre_grade = pre_grade\n",
        "        self.__mid_grade = mid_grade\n",
        "        self.__fin_grade = fin_grade\n",
        "\n",
        "    def grade(self):\n",
        "        return (self.__pre_grade + self.__mid_grade + self.__fin_grade) / 3\n",
        "\n",
        "\n",
        "std1 = Student(1, 'std1', 89, 94, 96)\n",
        "std2 = Student(2, 'std2', 95, 91, 92)\n",
        "std3 = Student(3, 'std3', 87, 86, 98)\n",
        "\n",
        "students = [std1, std2, std3]\n",
        "\n",
        "print('Names and grades of students:')\n",
        "for student in students:\n",
        "    print(student, student.grade())"
      ]
    },
    {
      "cell_type": "code",
      "source": [
        "class Person:\n",
        "    def __init__(self, name):\n",
        "        self.__name = name\n",
        "\n",
        "    def __str__(self):\n",
        "        return self.__name\n",
        "\n",
        "\n",
        "class Student(Person):\n",
        "    def __init__(self, std_num, name, pre_grade, mid_grade, fin_grade):\n",
        "        super().__init__(name)\n",
        "        self.__std_num = std_num\n",
        "        self.__pre_grade = pre_grade\n",
        "        self.__mid_grade = mid_grade\n",
        "        self.__fin_grade = fin_grade\n",
        "\n",
        "    def grade(self):\n",
        "        return (self.__pre_grade + self.__mid_grade + self.__fin_grade) / 3\n",
        "\n",
        "\n",
        "std1 = Student(1, 'std1', 89, 94, 96)\n",
        "std2 = Student(2, 'std2', 95, 91, 92)\n",
        "std3 = Student(3, 'std3', 87, 86, 98)\n",
        "\n",
        "students = [std1, std2, std3]\n",
        "\n",
        "print('Names and grades of students:')\n",
        "for student in students:\n",
        "    print(student, student.grade())"
      ],
      "metadata": {
        "colab": {
          "base_uri": "https://localhost:8080/"
        },
        "id": "AhW9nEnJmiFJ",
        "outputId": "6b0be1fa-6e9f-4318-964e-7f62fe1b0413"
      },
      "execution_count": 3,
      "outputs": [
        {
          "output_type": "stream",
          "name": "stdout",
          "text": [
            "Names and grades of students:\n",
            "std1 93.0\n",
            "std2 92.66666666666667\n",
            "std3 90.33333333333333\n"
          ]
        }
      ]
    },
    {
      "cell_type": "code",
      "source": [],
      "metadata": {
        "id": "QHdONUmtmjJK"
      },
      "execution_count": null,
      "outputs": []
    }
  ]
}