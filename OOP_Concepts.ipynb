{
  "nbformat": 4,
  "nbformat_minor": 0,
  "metadata": {
    "colab": {
      "provenance": [],
      "authorship_tag": "ABX9TyM55avzkJbF8ZU1FFwzvSOe",
      "include_colab_link": true
    },
    "kernelspec": {
      "name": "python3",
      "display_name": "Python 3"
    },
    "language_info": {
      "name": "python"
    }
  },
  "cells": [
    {
      "cell_type": "markdown",
      "metadata": {
        "id": "view-in-github",
        "colab_type": "text"
      },
      "source": [
        "<a href=\"https://colab.research.google.com/github/LimEzra1/CpE009A-OOP/blob/main/OOP_Concepts.ipynb\" target=\"_parent\"><img src=\"https://colab.research.google.com/assets/colab-badge.svg\" alt=\"Open In Colab\"/></a>"
      ]
    },
    {
      "cell_type": "code",
      "execution_count": null,
      "metadata": {
        "colab": {
          "base_uri": "https://localhost:8080/"
        },
        "id": "8ob58fW5YZj7",
        "outputId": "8bb44789-4cfb-439e-a313-12bcf767c5be"
      },
      "outputs": [
        {
          "output_type": "stream",
          "name": "stdout",
          "text": [
            "Griffon Vultureflies above clouds\n",
            "Common Craneflies above clouds\n",
            "Emu is the national bird of Philippines\n"
          ]
        }
      ],
      "source": [
        "class Birds:\n",
        "  def __init__(self,bird_name):\n",
        "    self.bird_name = bird_name\n",
        "  def flying_birds(self):\n",
        "    print(f\"{self.bird_name}flies above clouds\")\n",
        "  def non_flying_birds(self):\n",
        "    print(f\"{self.bird_name} is the national bird of Philippines\")\n",
        "\n",
        "vulture = Birds(\"Griffon Vulture\")\n",
        "crane = Birds(\"Common Crane\")\n",
        "emu = Birds(\"Emu\")\n",
        "vulture.flying_birds()\n",
        "crane.flying_birds()\n",
        "emu.non_flying_birds()"
      ]
    },
    {
      "cell_type": "code",
      "source": [
        "class foo:\n",
        "  def __init__(self,a,b):\n",
        "    self.a = a\n",
        "    self.b = b\n",
        "  def add(self):\n",
        "    return self.a+self.b\n",
        "\n",
        "foo_object = foo(3,4)\n",
        "foo_object.add()\n"
      ],
      "metadata": {
        "colab": {
          "base_uri": "https://localhost:8080/"
        },
        "id": "h9quJb3qchm1",
        "outputId": "fe76c370-6b4c-4e6f-948c-b398b42b2414"
      },
      "execution_count": null,
      "outputs": [
        {
          "output_type": "execute_result",
          "data": {
            "text/plain": [
              "7"
            ]
          },
          "metadata": {},
          "execution_count": 35
        }
      ]
    },
    {
      "cell_type": "code",
      "source": [
        "class Counter:\n",
        "  def __init__(self):\n",
        "    self.current = 0\n",
        "\n",
        "  def increment(self):\n",
        "    self.current += 1\n",
        "\n",
        "  def value(self):\n",
        "    return self.current\n",
        "\n",
        "  def reset(self):\n",
        "    self.current = 0\n",
        "\n",
        "counter = Counter()\n",
        "counter.increment()\n",
        "counter.increment()\n",
        "counter.increment()\n",
        "\n",
        "print(counter.value())"
      ],
      "metadata": {
        "colab": {
          "base_uri": "https://localhost:8080/"
        },
        "id": "ZljesMLfeFDm",
        "outputId": "d436e5f7-a56b-4720-b11e-b2e3c53fc849"
      },
      "execution_count": null,
      "outputs": [
        {
          "output_type": "stream",
          "name": "stdout",
          "text": [
            "3\n"
          ]
        }
      ]
    },
    {
      "cell_type": "code",
      "source": [
        "class RegularPolygon: #creates superclass name RegularPolygon\n",
        "  def __init__(self,side):\n",
        "    self.side = side\n",
        "\n",
        "class Square(RegularPolygon): #inherits the properties of superclass RegularPolygon\n",
        "  def area(self): #defines the method/function to get the area of a square\n",
        "    return self.side * self.side\n",
        "\n",
        "class EquilateralTriangle(RegularPolygon):\n",
        "  def area(self): #defines the method/function to get the area of a equilateral triangle\n",
        "    return self.side * self.side * 0.433\n",
        "\n",
        "square = Square(4) #creates and object name square\n",
        "print(square.area()) #print the instance of the attribute of Square class\n",
        "equiltriangle = EquilateralTriangle(4) #creates and object name equiltriangle\n",
        "print(equiltriangle.area()) #print the instance of the attribute of EquilateralTriangle class"
      ],
      "metadata": {
        "colab": {
          "base_uri": "https://localhost:8080/"
        },
        "id": "3CNlFfh4etbN",
        "outputId": "d6a101b2-85d8-4990-84ed-a8bc6510e8c7"
      },
      "execution_count": null,
      "outputs": [
        {
          "output_type": "stream",
          "name": "stdout",
          "text": [
            "16\n",
            "6.928\n"
          ]
        }
      ]
    },
    {
      "cell_type": "markdown",
      "source": [
        "Mangling  __\n",
        "\n",
        "Encapsulating"
      ],
      "metadata": {
        "id": "gl3Ig22_us1b"
      }
    },
    {
      "cell_type": "code",
      "source": [
        "class RegularPolygon: #creates superclass name RegularPolygon\n",
        "  def __init__(self,side):\n",
        "    self.__side = side\n",
        "  def area(self): #defines the method/function to get the area of a square\n",
        "    print(self.__side*self.__side)\n",
        "class Square(RegularPolygon): #inherits the properties of superclass RegularPolygon\n",
        "  pass\n",
        "\n",
        "square = Square(4)\n",
        "square.area()"
      ],
      "metadata": {
        "colab": {
          "base_uri": "https://localhost:8080/"
        },
        "id": "jlCDCFxHgH6M",
        "outputId": "7e1e016f-12be-4c85-c0ed-f9ebd38481b4"
      },
      "execution_count": null,
      "outputs": [
        {
          "output_type": "stream",
          "name": "stdout",
          "text": [
            "16\n"
          ]
        }
      ]
    },
    {
      "cell_type": "code",
      "source": [
        "class Birds:\n",
        "  def __init__(self,bird_name):\n",
        "    self.bird_name = bird_name\n",
        "  def flying_birds(self):\n",
        "    print(f\"{self.bird_name}flies above clouds\")\n",
        "  def non_flying_birds(self):\n",
        "    print(f\"{self.bird_name} is the national bird of Philippines\")\n",
        "\n",
        "vulture = Birds(\"Griffon Vulture\")\n",
        "crane = Birds(\"Common Crane\")\n",
        "emu = Birds(\"Emu\")\n",
        "vulture.flying_birds()\n",
        "crane.flying_birds()\n",
        "emu.non_flying_birds()"
      ],
      "metadata": {
        "colab": {
          "base_uri": "https://localhost:8080/"
        },
        "id": "MsEK7OlNwTQm",
        "outputId": "a9dfa736-777a-416c-8313-d564cd1a729a"
      },
      "execution_count": null,
      "outputs": [
        {
          "output_type": "stream",
          "name": "stdout",
          "text": [
            "Griffon Vultureflies above clouds\n",
            "Common Craneflies above clouds\n",
            "Emu is the national bird of Philippines\n"
          ]
        }
      ]
    },
    {
      "cell_type": "code",
      "source": [
        "'''class Person:\n",
        "  def __init__(self,std1,std2,std3,pre,mid,fin)\n",
        "    self.__std1 = std1\n",
        "    self.__std2 = std2\n",
        "    self.__std3 = std3\n",
        "    self.__pre = pre\n",
        "    self.__mid = mid\n",
        "    self.__fin = fin\n",
        "\n",
        "#class Student(Person)\n",
        "  def __init__\n",
        "#class Grade(Person)\n",
        "  def grade(self):\n",
        "    return self.std1 = std1\n",
        "\n",
        "student1 = (\"Student1\" )"
      ],
      "metadata": {
        "id": "0SBJDk-EsJi7",
        "colab": {
          "base_uri": "https://localhost:8080/",
          "height": 106
        },
        "outputId": "23f77a55-eb12-4fe5-ee35-b1364f275f54"
      },
      "execution_count": 7,
      "outputs": [
        {
          "output_type": "error",
          "ename": "SyntaxError",
          "evalue": "incomplete input (<ipython-input-7-6e7529cab5c4>, line 1)",
          "traceback": [
            "\u001b[0;36m  File \u001b[0;32m\"<ipython-input-7-6e7529cab5c4>\"\u001b[0;36m, line \u001b[0;32m1\u001b[0m\n\u001b[0;31m    '''class Person:\u001b[0m\n\u001b[0m    ^\u001b[0m\n\u001b[0;31mSyntaxError\u001b[0m\u001b[0;31m:\u001b[0m incomplete input\n"
          ]
        }
      ]
    },
    {
      "cell_type": "markdown",
      "source": [
        "**Final**\n",
        "\n",
        "using r"
      ],
      "metadata": {
        "id": "7VKhkZNVMaNz"
      }
    },
    {
      "cell_type": "code",
      "source": [
        "class Person:\n",
        "  def __init__(self,name):\n",
        "    self.__name = name\n",
        "\n",
        "class Student:\n",
        "  def __init__(self, std_num, pre_grade, mid_grade, fin_grade):\n",
        "    self.__std_num = std_num\n",
        "    self.__pre_grade = pre_grade\n",
        "    self.__mid_grade = mid_grade\n",
        "    self.__fin_grade = fin_grade\n",
        "\n",
        "  def grade(self):\n",
        "    return(self.__pre_grade, self.__mid_grade, self.__fin_grade)/3\n",
        "\n",
        "std1 = Student(1, 89, 94, 96)\n",
        "std2 = Student(2, 95, 91, 92)\n",
        "std3 = Student(3, 87, 86, 98)\n",
        "\n",
        "students = [std1, std2, std3]\n",
        "\n",
        "print('Names and grades of students:')\n",
        "for student in students:\n",
        "    print(student)"
      ],
      "metadata": {
        "colab": {
          "base_uri": "https://localhost:8080/"
        },
        "id": "_qCeVQhO11zh",
        "outputId": "3e8bd54e-f598-4074-af79-a0504c9023d6"
      },
      "execution_count": 6,
      "outputs": [
        {
          "output_type": "stream",
          "name": "stdout",
          "text": [
            "Names and grades of students:\n",
            "<__main__.Student object at 0x7a6428e34b80>\n",
            "<__main__.Student object at 0x7a6428e34c70>\n",
            "<__main__.Student object at 0x7a6428e35b40>\n"
          ]
        }
      ]
    },
    {
      "cell_type": "code",
      "source": [],
      "metadata": {
        "id": "nGMnu1ti4DQw",
        "colab": {
          "base_uri": "https://localhost:8080/"
        },
        "outputId": "23f4cdb1-32e8-4987-9596-838934589682"
      },
      "execution_count": 2,
      "outputs": [
        {
          "output_type": "stream",
          "name": "stdout",
          "text": [
            "Names and grades of students:\n",
            "Student 1: 88.33\n",
            "Student 2: 79.00\n",
            "Student 3: 91.00\n"
          ]
        }
      ]
    }
  ]
}