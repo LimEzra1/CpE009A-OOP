{
  "nbformat": 4,
  "nbformat_minor": 0,
  "metadata": {
    "colab": {
      "provenance": [],
      "authorship_tag": "ABX9TyNg/E4P8cW7KPMBWBLPGQwV",
      "include_colab_link": true
    },
    "kernelspec": {
      "name": "python3",
      "display_name": "Python 3"
    },
    "language_info": {
      "name": "python"
    }
  },
  "cells": [
    {
      "cell_type": "markdown",
      "metadata": {
        "id": "view-in-github",
        "colab_type": "text"
      },
      "source": [
        "<a href=\"https://colab.research.google.com/github/LimEzra1/CpE009A-OOP/blob/main/Exercise1.ipynb\" target=\"_parent\"><img src=\"https://colab.research.google.com/assets/colab-badge.svg\" alt=\"Open In Colab\"/></a>"
      ]
    },
    {
      "cell_type": "markdown",
      "source": [
        "  To do:\n",
        "\n",
        "- Length of rectangle\n",
        "- Width of rectangle\n",
        "- add the length and width\n",
        "- multiply the sum by 2 to get the perimeter\n",
        "- print perimeter of rectangle\n",
        "- multiply the length by the width to get the area\n",
        "- print the area of the rectangle"
      ],
      "metadata": {
        "id": "WHAbyf6OdqZx"
      }
    },
    {
      "cell_type": "code",
      "execution_count": 1,
      "metadata": {
        "colab": {
          "base_uri": "https://localhost:8080/"
        },
        "id": "ofyElnMScsPc",
        "outputId": "462089ee-4200-4d43-ac18-fadecdeebf13"
      },
      "outputs": [
        {
          "output_type": "stream",
          "name": "stdout",
          "text": [
            "Enter Length: \n",
            "10\n",
            "Width: \n",
            "45\n",
            "Perimeter: \n",
            "110\n",
            "Area: \n",
            "450\n"
          ]
        }
      ],
      "source": [
        "print(\"Length: \")\n",
        "length=int(input())\n",
        "print(\"Width: \")\n",
        "width=int(input())\n",
        "\n",
        "perimeter=2*(length+width)\n",
        "area=length*width\n",
        "\n",
        "print(\"Perimeter: \")\n",
        "print(perimeter)\n",
        "print(\"Area: \")\n",
        "print(area)"
      ]
    }
  ]
}